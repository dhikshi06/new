{
  "nbformat": 4,
  "nbformat_minor": 0,
  "metadata": {
    "colab": {
      "provenance": [],
      "authorship_tag": "ABX9TyOT6BDBmjLdHqGEi8swpV/C",
      "include_colab_link": true
    },
    "kernelspec": {
      "name": "python3",
      "display_name": "Python 3"
    },
    "language_info": {
      "name": "python"
    }
  },
  "cells": [
    {
      "cell_type": "markdown",
      "metadata": {
        "id": "view-in-github",
        "colab_type": "text"
      },
      "source": [
        "<a href=\"https://colab.research.google.com/github/dhikshi06/new/blob/main/DHIKSHIDHA_(RA2311027040006.ipynb\" target=\"_parent\"><img src=\"https://colab.research.google.com/assets/colab-badge.svg\" alt=\"Open In Colab\"/></a>"
      ]
    },
    {
      "cell_type": "code",
      "execution_count": null,
      "metadata": {
        "id": "yBrWTgyfOgcx"
      },
      "outputs": [],
      "source": []
    },
    {
      "cell_type": "markdown",
      "source": [
        "Dataset: /kaggle/input/uber-ride-analytics-dashboard\n"
      ],
      "metadata": {
        "id": "K4195sSfO2Kt"
      }
    },
    {
      "cell_type": "code",
      "source": [
        "import pandas as pd\n",
        "import os\n",
        "\n",
        "# Define the path to the dataset\n",
        "path = '/content'\n",
        "\n",
        "# Adjust path to the actual file inside the dataset folder\n",
        "file_path = os.path.join(path, 'ncr_ride_bookings.csv')  # <- Change filename if needed\n",
        "\n",
        "# Load dataset\n",
        "data = pd.read_csv(file_path)\n",
        "print(data.head())"
      ],
      "metadata": {
        "colab": {
          "base_uri": "https://localhost:8080/"
        },
        "id": "PAw0vxKuP6yz",
        "outputId": "586523a4-820c-40c3-b087-ecbd403364c2"
      },
      "execution_count": null,
      "outputs": [
        {
          "output_type": "stream",
          "name": "stdout",
          "text": [
            "         Date      Time    Booking ID   Booking Status   Customer ID  \\\n",
            "0  2024-03-23  12:29:38  \"CNR5884300\"  No Driver Found  \"CID1982111\"   \n",
            "1  2024-11-29  18:01:39  \"CNR1326809\"       Incomplete  \"CID4604802\"   \n",
            "2  2024-08-23  08:56:10  \"CNR8494506\"        Completed  \"CID9202816\"   \n",
            "3  2024-10-21  17:17:25  \"CNR8906825\"        Completed  \"CID2610914\"   \n",
            "4  2024-09-16  22:08:00  \"CNR1950162\"        Completed  \"CID9933542\"   \n",
            "\n",
            "    Vehicle Type      Pickup Location      Drop Location  Avg VTAT  Avg CTAT  \\\n",
            "0          eBike          Palam Vihar            Jhilmil       NaN       NaN   \n",
            "1       Go Sedan        Shastri Nagar  Gurgaon Sector 56       4.9      14.0   \n",
            "2           Auto              Khandsa      Malviya Nagar      13.4      25.8   \n",
            "3  Premier Sedan  Central Secretariat           Inderlok      13.1      28.5   \n",
            "4           Bike     Ghitorni Village        Khan Market       5.3      19.6   \n",
            "\n",
            "   ...  Reason for cancelling by Customer Cancelled Rides by Driver  \\\n",
            "0  ...                                NaN                       NaN   \n",
            "1  ...                                NaN                       NaN   \n",
            "2  ...                                NaN                       NaN   \n",
            "3  ...                                NaN                       NaN   \n",
            "4  ...                                NaN                       NaN   \n",
            "\n",
            "   Driver Cancellation Reason Incomplete Rides  Incomplete Rides Reason  \\\n",
            "0                         NaN              NaN                      NaN   \n",
            "1                         NaN              1.0        Vehicle Breakdown   \n",
            "2                         NaN              NaN                      NaN   \n",
            "3                         NaN              NaN                      NaN   \n",
            "4                         NaN              NaN                      NaN   \n",
            "\n",
            "  Booking Value  Ride Distance  Driver Ratings  Customer Rating  \\\n",
            "0           NaN            NaN             NaN              NaN   \n",
            "1         237.0           5.73             NaN              NaN   \n",
            "2         627.0          13.58             4.9              4.9   \n",
            "3         416.0          34.02             4.6              5.0   \n",
            "4         737.0          48.21             4.1              4.3   \n",
            "\n",
            "   Payment Method  \n",
            "0             NaN  \n",
            "1             UPI  \n",
            "2      Debit Card  \n",
            "3             UPI  \n",
            "4             UPI  \n",
            "\n",
            "[5 rows x 21 columns]\n"
          ]
        }
      ]
    },
    {
      "cell_type": "code",
      "source": [
        "# Define output column\n",
        "output_col = 'Booking Value'\n",
        "\n",
        "# Output preprocessor\n",
        "preprocessor_out = ColumnTransformer([\n",
        "    (\"num\", num_transformer, [output_col])\n",
        "])\n",
        "preprocessor_out.set_output(transform=\"pandas\")\n",
        "\n",
        "# Preprocess output\n",
        "y = preprocessor_out.fit_transform(data)\n",
        "\n",
        "# Split the data\n",
        "X_train, X_test, y_train, y_test = train_test_split(\n",
        "    X, y, test_size=0.2, random_state=42\n",
        ")\n",
        "\n",
        "# Display few rows\n",
        "print(\"X_train sample:\")\n",
        "print(X_train.head())\n",
        "\n",
        "print(\"\\ny_train sample:\")\n",
        "print(y_train.head())\n"
      ],
      "metadata": {
        "colab": {
          "base_uri": "https://localhost:8080/"
        },
        "id": "wVvSGqS3Qjg1",
        "outputId": "3035cc01-01f8-47ae-c016-e2d9998c05bb"
      },
      "execution_count": null,
      "outputs": [
        {
          "output_type": "stream",
          "name": "stdout",
          "text": [
            "X_train sample:\n",
            "        num__Avg VTAT  num__Avg CTAT  num__Booking Value  num__Ride Distance  \\\n",
            "104025      -1.636774       1.300924           -0.353248            0.470535   \n",
            "5415        -1.719212       0.061347           -0.926185           -1.775186   \n",
            "75612       -1.471897       1.750440           -1.198867            1.268186   \n",
            "138169       1.688242      -1.818450           -1.238696           -1.336088   \n",
            "87184        1.633283       0.701568            1.478926           -1.401043   \n",
            "\n",
            "        num__Driver Ratings  num__Customer Rating  cat__Vehicle Type_Auto  \\\n",
            "104025         4.913137e-01             -0.593449                     1.0   \n",
            "5415          -2.581981e-15              0.000000                     0.0   \n",
            "75612          1.654134e+00             -0.883525                     0.0   \n",
            "138169        -9.622123e-01             -0.303373                     0.0   \n",
            "87184          2.006085e-01             -0.883525                     1.0   \n",
            "\n",
            "        cat__Vehicle Type_Bike  cat__Vehicle Type_Go Mini  \\\n",
            "104025                     0.0                        0.0   \n",
            "5415                       0.0                        0.0   \n",
            "75612                      0.0                        0.0   \n",
            "138169                     0.0                        0.0   \n",
            "87184                      0.0                        0.0   \n",
            "\n",
            "        cat__Vehicle Type_Go Sedan  ...  cat__Drop Location_Vidhan Sabha  \\\n",
            "104025                         0.0  ...                              0.0   \n",
            "5415                           1.0  ...                              0.0   \n",
            "75612                          0.0  ...                              0.0   \n",
            "138169                         0.0  ...                              0.0   \n",
            "87184                          0.0  ...                              0.0   \n",
            "\n",
            "        cat__Drop Location_Vinobapuri  cat__Drop Location_Vishwavidyalaya  \\\n",
            "104025                            0.0                                 0.0   \n",
            "5415                              0.0                                 0.0   \n",
            "75612                             0.0                                 0.0   \n",
            "138169                            0.0                                 0.0   \n",
            "87184                             0.0                                 0.0   \n",
            "\n",
            "        cat__Drop Location_Welcome  cat__Drop Location_Yamuna Bank  \\\n",
            "104025                         0.0                             0.0   \n",
            "5415                           0.0                             0.0   \n",
            "75612                          0.0                             0.0   \n",
            "138169                         0.0                             0.0   \n",
            "87184                          0.0                             0.0   \n",
            "\n",
            "        cat__Payment Method_Cash  cat__Payment Method_Credit Card  \\\n",
            "104025                       0.0                              1.0   \n",
            "5415                         1.0                              0.0   \n",
            "75612                        0.0                              1.0   \n",
            "138169                       0.0                              0.0   \n",
            "87184                        0.0                              0.0   \n",
            "\n",
            "        cat__Payment Method_Debit Card  cat__Payment Method_UPI  \\\n",
            "104025                             0.0                      0.0   \n",
            "5415                               0.0                      0.0   \n",
            "75612                              0.0                      0.0   \n",
            "138169                             0.0                      1.0   \n",
            "87184                              0.0                      0.0   \n",
            "\n",
            "        cat__Payment Method_Uber Wallet  \n",
            "104025                              0.0  \n",
            "5415                                0.0  \n",
            "75612                               0.0  \n",
            "138169                              0.0  \n",
            "87184                               1.0  \n",
            "\n",
            "[5 rows x 370 columns]\n",
            "\n",
            "y_train sample:\n",
            "        num__Booking Value\n",
            "104025           -0.353248\n",
            "5415             -0.926185\n",
            "75612            -1.198867\n",
            "138169           -1.238696\n",
            "87184             1.478926\n"
          ]
        }
      ]
    },
    {
      "cell_type": "markdown",
      "source": [
        "#T2Simple Linear Regression"
      ],
      "metadata": {
        "id": "gqNplMxfQ00y"
      }
    },
    {
      "cell_type": "code",
      "source": [
        "# PROGRAM 2 — Simple Linear Regression Example with Graph\n",
        "import pandas as pd\n",
        "import numpy as np\n",
        "import matplotlib.pyplot as plt\n",
        "from sklearn.linear_model import LinearRegression\n",
        "\n",
        "# Sample data\n",
        "data = { 'x': [1, 2, 3, 4, 5],\n",
        "         'y': [2, 4, 5, 4, 5] }\n",
        "df = pd.DataFrame(data)\n",
        "\n",
        "# Features and labels\n",
        "X = df[['x']]\n",
        "Y = df[['y']]\n",
        "\n",
        "# Fit the model\n",
        "model = LinearRegression()\n",
        "model.fit(X, Y)\n",
        "\n",
        "# Predictions\n",
        "y_pred = model.predict(X)\n",
        "\n",
        "# Output slope and intercept\n",
        "print(\"Slope (m):\", model.coef_[0][0])\n",
        "print(\"Intercept (c):\", model.intercept_[0])\n",
        "\n",
        "# Plotting\n",
        "plt.scatter(X, Y, color='blue', label='Actual data')\n",
        "plt.plot(X, y_pred, color='red', label='Regression line')\n",
        "plt.title('Simple Linear Regression')\n",
        "plt.xlabel('x')\n",
        "plt.ylabel('y')\n",
        "plt.legend()\n",
        "plt.grid(True)\n",
        "plt.show()\n"
      ],
      "metadata": {
        "colab": {
          "base_uri": "https://localhost:8080/",
          "height": 507
        },
        "id": "EKrGVzflQ2h-",
        "outputId": "1bfaa4ce-1c2d-4a80-b328-7e2e56bf42b6"
      },
      "execution_count": null,
      "outputs": [
        {
          "output_type": "stream",
          "name": "stdout",
          "text": [
            "Slope (m): 0.6\n",
            "Intercept (c): 2.2\n"
          ]
        },
        {
          "output_type": "display_data",
          "data": {
            "text/plain": [
              "<Figure size 640x480 with 1 Axes>"
            ],
            "image/png": "[encoded data removed]"
          },
          "metadata": {}
        }
      ]
    },
    {
      "cell_type": "code",
      "source": [
        "#T3: Cross Validation\n",
        "import os\n",
        "import pandas as pd\n",
        "from sklearn.tree import DecisionTreeClassifier\n",
        "from sklearn.linear_model import LogisticRegression\n",
        "from sklearn.model_selection import KFold, cross_val_score\n",
        "from sklearn.preprocessing import LabelEncoder\n",
        "\n",
        "# Step 1: Load the dataset directly from the file path\n",
        "file_path = '/content/ncr_ride_bookings.csv'\n",
        "\n",
        "data = pd.read_csv(file_path)\n",
        "\n",
        "# Step 2: Select features and target for classification\n",
        "# Features: use numeric + categorical encoded as integers\n",
        "features = ['Ride Distance', 'Avg VTAT', 'Avg CTAT', 'Driver Ratings', 'Customer Rating']\n",
        "\n",
        "# Convert features to numeric (handle errors)\n",
        "for col in features:\n",
        "    data[col] = pd.to_numeric(data[col], errors='coerce')\n",
        "\n",
        "# Drop rows with missing feature values\n",
        "data = data.dropna(subset=features + ['Booking Value'])\n",
        "\n",
        "X = data[features]\n",
        "\n",
        "# Step 3: Create binary target: High Booking Value = 1, else 0\n",
        "median_booking_value = data['Booking Value'].median()\n",
        "y = (data['Booking Value'] > median_booking_value).astype(int)\n",
        "\n",
        "# Step 4: For categorical features (if any), encode\n",
        "# Here all are numeric, so no encoding needed\n",
        "\n",
        "# Step 5: Define classifiers\n",
        "clf1 = DecisionTreeClassifier(random_state=42)\n",
        "clf2 = LogisticRegression(max_iter=1000)\n",
        "\n",
        "# Step 6: Define KFold cross-validation\n",
        "k_folds = KFold(n_splits=10, shuffle=True, random_state=42)\n",
        "\n",
        "# Step 7: Cross validation scores\n",
        "scores1 = cross_val_score(clf1, X, y, cv=k_folds)\n",
        "scores2 = cross_val_score(clf2, X, y, cv=k_folds)\n",
        "\n",
        "# Step 8: Print results\n",
        "print(\"Decision Tree Cross Validation Scores:\", scores1)\n",
        "print(\"Logistic Regression Cross Validation Scores:\", scores2)\n",
        "print(\"Decision Tree Average CV Score:\", scores1.mean())\n",
        "print(\"Logistic Regression Average CV Score:\", scores2.mean())\n",
        "print(\"Number of CV Scores used in Average (DT):\", len(scores1))\n",
        "print(\"Number of CV Scores used in Average (LR):\", len(scores2))"
      ],
      "metadata": {
        "colab": {
          "base_uri": "https://localhost:8080/"
        },
        "id": "AIodNOA2RSkQ",
        "outputId": "4ded65f4-12b6-45e9-f03c-e7bc758cebcf"
      },
      "execution_count": null,
      "outputs": [
        {
          "output_type": "stream",
          "name": "stdout",
          "text": [
            "Decision Tree Cross Validation Scores: [0.48935484 0.50451613 0.50483871 0.50526882 0.50107527 0.5055914\n",
            " 0.49731183 0.5044086  0.49946237 0.50741935]\n",
            "Logistic Regression Cross Validation Scores: [0.50075269 0.5        0.50301075 0.50376344 0.49612903 0.50107527\n",
            " 0.49989247 0.50290323 0.50150538 0.49741935]\n",
            "Decision Tree Average CV Score: 0.5019247311827957\n",
            "Logistic Regression Average CV Score: 0.5006451612903227\n",
            "Number of CV Scores used in Average (DT): 10\n",
            "Number of CV Scores used in Average (LR): 10\n"
          ]
        }
      ]
    },
    {
      "cell_type": "code",
      "source": [
        "#Program Codes for Unit - II\n",
        "#T4: Performance Metrics\n",
        "import os\n",
        "import pandas as pd\n",
        "from sklearn.preprocessing import LabelEncoder\n",
        "from sklearn.model_selection import train_test_split\n",
        "from sklearn.tree import DecisionTreeClassifier\n",
        "from sklearn.linear_model import LinearRegression\n",
        "from sklearn.metrics import accuracy_score, mean_squared_error, r2_score\n",
        "\n",
        "# Step 1: Download and load dataset\n",
        "file_path = os.path.join('/content', \"ncr_ride_bookings.csv\")\n",
        "\n",
        "data = pd.read_csv(file_path)\n",
        "\n",
        "# Step 2: Select relevant features and target columns\n",
        "features = ['Ride Distance', 'Avg VTAT', 'Avg CTAT', 'Driver Ratings', 'Customer Rating']\n",
        "for col in features + ['Booking Value']:\n",
        "    data[col] = pd.to_numeric(data[col], errors='coerce')\n",
        "\n",
        "# Drop rows with missing values in these columns\n",
        "data = data.dropna(subset=features + ['Booking Value'])\n",
        "\n",
        "# Step 3: Create binary classification target: High Booking Value (1) vs Low (0)\n",
        "median_booking = data['Booking Value'].median()\n",
        "data['high_booking_value'] = (data['Booking Value'] > median_booking).astype(int)\n",
        "\n",
        "# Step 4: Prepare classification dataset\n",
        "X = data[features]\n",
        "y_class = data['high_booking_value']  # Classification target\n",
        "y_reg = data['Booking Value']         # Regression target\n",
        "\n",
        "# Step 5: Split into train and test sets\n",
        "X_train, X_test, y_class_train, y_class_test = train_test_split(X, y_class, test_size=0.2, random_state=42)\n",
        "_, _, y_reg_train, y_reg_test = train_test_split(X, y_reg, test_size=0.2, random_state=42)\n",
        "\n",
        "# Step 6: Decision Tree Classifier for classification\n",
        "dt = DecisionTreeClassifier(criterion=\"entropy\", random_state=42)\n",
        "dt.fit(X_train, y_class_train)\n",
        "y_dt_pred = dt.predict(X_test)\n",
        "accuracy_dt = accuracy_score(y_class_test, y_dt_pred)\n",
        "print(\"Decision Tree Classifier Accuracy:\", accuracy_dt)\n",
        "\n",
        "# Step 7: Linear Regression for regression target\n",
        "lrr = LinearRegression()\n",
        "lrr.fit(X_train, y_reg_train)\n",
        "y_lrr_pred = lrr.predict(X_test)\n",
        "\n",
        "mse = mean_squared_error(y_reg_test, y_lrr_pred)\n",
        "r2 = r2_score(y_reg_test, y_lrr_pred)\n",
        "print(\"Linear Regression MSE:\", mse)\n",
        "print(\"Linear Regression R2 Score:\", r2)"
      ],
      "metadata": {
        "colab": {
          "base_uri": "https://localhost:8080/"
        },
        "id": "sajSDN1KTR2X",
        "outputId": "c36e5aaa-2507-4c3d-ab3a-ed6709e75f83"
      },
      "execution_count": null,
      "outputs": [
        {
          "output_type": "stream",
          "name": "stdout",
          "text": [
            "Decision Tree Classifier Accuracy: 0.5039247311827957\n",
            "Linear Regression MSE: 159521.65508115015\n",
            "Linear Regression R2 Score: -6.356350924585641e-05\n"
          ]
        }
      ]
    },
    {
      "cell_type": "code",
      "source": [],
      "metadata": {
        "id": "yp4QXrFPUcnQ"
      },
      "execution_count": null,
      "outputs": []
    },
    {
      "cell_type": "code",
      "source": [
        "#T5: Multiple Linear Regression\n",
        "\n",
        "import os\n",
        "import pandas as pd\n",
        "from sklearn.model_selection import train_test_split\n",
        "from sklearn.linear_model import LinearRegression\n",
        "from sklearn.metrics import mean_squared_error, r2_score\n",
        "\n",
        "# Step 1: Download and load the dataset\n",
        "file_path = os.path.join('/content', \"ncr_ride_bookings.csv\")\n",
        "\n",
        "data = pd.read_csv(file_path)\n",
        "\n",
        "# Step 2: Select features and target\n",
        "features = ['Ride Distance', 'Avg VTAT', 'Avg CTAT', 'Driver Ratings', 'Customer Rating']\n",
        "for col in features + ['Booking Value']:\n",
        "    data[col] = pd.to_numeric(data[col], errors='coerce')\n",
        "\n",
        "# Drop rows with missing values in features and target\n",
        "data = data.dropna(subset=features + ['Booking Value'])\n",
        "\n",
        "X = data[features]\n",
        "y = data['Booking Value']\n",
        "\n",
        "# Step 3: Split dataset into train and test sets\n",
        "X_train, X_test, y_train, y_test = train_test_split(X, y, test_size=0.2, random_state=2)\n",
        "\n",
        "# Step 4: Train Multiple Linear Regression model\n",
        "lrr = LinearRegression()\n",
        "lrr.fit(X_train, y_train)\n",
        "\n",
        "# Step 5: Predict on test data\n",
        "y_pred = lrr.predict(X_test)\n",
        "\n",
        "# Step 6: Evaluate the model\n",
        "mse = mean_squared_error(y_test, y_pred)\n",
        "r2 = r2_score(y_test, y_pred)\n",
        "\n",
        "print(\"Linear Regression MSE:\", mse)\n",
        "print(\"Linear Regression R2:\", r2)"
      ],
      "metadata": {
        "colab": {
          "base_uri": "https://localhost:8080/"
        },
        "id": "VZRAWMAdUXYb",
        "outputId": "ad618d09-2d96-4ff6-b966-aba4bf0a6d2f"
      },
      "execution_count": null,
      "outputs": [
        {
          "output_type": "stream",
          "name": "stdout",
          "text": [
            "Linear Regression MSE: 158039.9107755548\n",
            "Linear Regression R2: -0.0002769399972024633\n"
          ]
        }
      ]
    },
    {
      "cell_type": "code",
      "source": [
        "#T6: Logistic Regression\n",
        "\n",
        "import os\n",
        "import pandas as pd\n",
        "from sklearn.model_selection import train_test_split\n",
        "from sklearn.linear_model import LogisticRegression\n",
        "from sklearn.metrics import accuracy_score\n",
        "\n",
        "# Step 1: Download and load the dataset\n",
        "file_path = os.path.join('/content', \"ncr_ride_bookings.csv\")\n",
        "\n",
        "data = pd.read_csv(file_path)\n",
        "\n",
        "# Step 2: Select features and preprocess\n",
        "features = ['Ride Distance', 'Avg VTAT', 'Avg CTAT', 'Driver Ratings', 'Customer Rating']\n",
        "for col in features + ['Booking Value']:\n",
        "    data[col] = pd.to_numeric(data[col], errors='coerce')\n",
        "\n",
        "# Drop missing values\n",
        "data = data.dropna(subset=features + ['Booking Value'])\n",
        "\n",
        "# Step 3: Create binary classification target\n",
        "median_booking = data['Booking Value'].median()\n",
        "data['high_booking_value'] = (data['Booking Value'] > median_booking).astype(int)\n",
        "\n",
        "X = data[features]\n",
        "y = data['high_booking_value']\n",
        "\n",
        "# Step 4: Split into train/test sets\n",
        "X_train, X_test, y_train, y_test = train_test_split(X, y, test_size=0.2, random_state=2)\n",
        "\n",
        "# Step 5: Train logistic regression model\n",
        "lr = LogisticRegression(max_iter=1000)\n",
        "lr.fit(X_train, y_train)\n",
        "\n",
        "# Step 6: Predict and evaluate\n",
        "y_lr_pred = lr.predict(X_test)\n",
        "\n",
        "print(\"y_test shape:\", y_test.shape)\n",
        "print(\"y_lr_pred shape:\", y_lr_pred.shape)\n",
        "\n",
        "accuracy_lr = accuracy_score(y_test, y_lr_pred)\n",
        "print(\"Logistic Regression Accuracy:\", accuracy_lr)"
      ],
      "metadata": {
        "colab": {
          "base_uri": "https://localhost:8080/"
        },
        "id": "GTOwYeJnUrPC",
        "outputId": "abcdbfbf-86f0-454f-9558-ba4cc1734789"
      },
      "execution_count": null,
      "outputs": [
        {
          "output_type": "stream",
          "name": "stdout",
          "text": [
            "y_test shape: (18600,)\n",
            "y_lr_pred shape: (18600,)\n",
            "Logistic Regression Accuracy: 0.5073655913978494\n"
          ]
        }
      ]
    },
    {
      "cell_type": "code",
      "source": [
        "#Additional Codes\n",
        "#Decision_Tree\n",
        "\n",
        "import os\n",
        "import pandas as pd\n",
        "from sklearn.model_selection import train_test_split\n",
        "from sklearn.tree import DecisionTreeClassifier\n",
        "from sklearn.metrics import accuracy_score\n",
        "\n",
        "# Step 1: Download and load dataset\n",
        "file_path = os.path.join('/content', \"ncr_ride_bookings.csv\")\n",
        "\n",
        "data = pd.read_csv(file_path)\n",
        "\n",
        "# Step 2: Select features and preprocess\n",
        "features = ['Ride Distance', 'Avg VTAT', 'Avg CTAT', 'Driver Ratings', 'Customer Rating']\n",
        "for col in features + ['Booking Value']:\n",
        "    data[col] = pd.to_numeric(data[col], errors='coerce')\n",
        "\n",
        "# Drop missing values in features and target\n",
        "data = data.dropna(subset=features + ['Booking Value'])\n",
        "\n",
        "# Step 3: Create binary classification target for Decision Tree\n",
        "median_booking = data['Booking Value'].median()\n",
        "data['high_booking_value'] = (data['Booking Value'] > median_booking).astype(int)\n",
        "\n",
        "X = data[features]\n",
        "y = data['high_booking_value']\n",
        "\n",
        "# Step 4: Split dataset into training and testing sets\n",
        "X_train, X_test, y_train, y_test = train_test_split(X, y, test_size=0.2, random_state=2)\n",
        "\n",
        "# Step 5: Initialize and train Decision Tree Classifier\n",
        "dt = DecisionTreeClassifier(criterion='entropy', random_state=2)\n",
        "dt.fit(X_train, y_train)\n",
        "\n",
        "# Step 6: Make predictions and evaluate accuracy\n",
        "y_dt_pred = dt.predict(X_test)\n",
        "\n",
        "print(\"y_test shape:\", y_test.shape)\n",
        "print(\"y_dt_pred shape:\", y_dt_pred.shape)\n",
        "\n",
        "accuracy_dt = accuracy_score(y_test, y_dt_pred)\n",
        "print(\"Decision Tree Classifier Accuracy:\", accuracy_dt)"
      ],
      "metadata": {
        "colab": {
          "base_uri": "https://localhost:8080/"
        },
        "id": "akw8a-QEVWju",
        "outputId": "ae8ec647-19e4-4192-cc7b-878caba8b91c"
      },
      "execution_count": null,
      "outputs": [
        {
          "output_type": "stream",
          "name": "stdout",
          "text": [
            "y_test shape: (18600,)\n",
            "y_dt_pred shape: (18600,)\n",
            "Decision Tree Classifier Accuracy: 0.5040322580645161\n"
          ]
        }
      ]
    },
    {
      "cell_type": "code",
      "source": [
        "import kagglehub\n",
        "import os\n",
        "import pandas as pd\n",
        "from sklearn.model_selection import train_test_split\n",
        "from sklearn.tree import DecisionTreeClassifier\n",
        "from sklearn.linear_model import LogisticRegression\n",
        "from sklearn.metrics import accuracy_score\n",
        "from statsmodels.stats.contingency_tables import mcnemar\n",
        "\n",
        "# Step 1: Download and load dataset\n",
        "file_path = os.path.join('/content', \"ncr_ride_bookings.csv\")\n",
        "\n",
        "data = pd.read_csv(file_path)\n",
        "\n",
        "# Step 2: Select features and preprocess\n",
        "features = ['Ride Distance', 'Avg VTAT', 'Avg CTAT', 'Driver Ratings', 'Customer Rating']\n",
        "for col in features + ['Booking Value']:\n",
        "    data[col] = pd.to_numeric(data[col], errors='coerce')\n",
        "\n",
        "# Drop rows with missing values\n",
        "data = data.dropna(subset=features + ['Booking Value'])\n",
        "\n",
        "# Step 3: Create binary classification target\n",
        "median_booking = data['Booking Value'].median()\n",
        "data['high_booking_value'] = (data['Booking Value'] > median_booking).astype(int)\n",
        "\n",
        "X = data[features]\n",
        "y = data['high_booking_value']\n",
        "\n",
        "# Step 4: Split train/test data\n",
        "X_train, X_test, y_train, y_test = train_test_split(X, y, test_size=0.2, random_state=2)\n",
        "\n",
        "# Step 5: Train Decision Tree classifier\n",
        "dt = DecisionTreeClassifier(criterion='entropy', random_state=2)\n",
        "dt.fit(X_train, y_train)\n",
        "y_dt_pred = dt.predict(X_test)\n",
        "\n",
        "# Step 6: Train Logistic Regression\n",
        "lr = LogisticRegression(max_iter=1000)\n",
        "lr.fit(X_train, y_train)\n",
        "y_lr_pred = lr.predict(X_test)\n",
        "\n",
        "# Step 7: Print accuracies\n",
        "print(\"Decision Tree Accuracy:\", accuracy_score(y_test, y_dt_pred))\n",
        "print(\"Logistic Regression Accuracy:\", accuracy_score(y_test, y_lr_pred))\n",
        "\n",
        "# Step 8: Build contingency table for McNemar's test\n",
        "table = [[0, 0], [0, 0]]\n",
        "\n",
        "for i in range(len(y_test)):\n",
        "    if y_test.iloc[i] == y_dt_pred[i] and y_test.iloc[i] != y_lr_pred[i]:\n",
        "        table[0][1] += 1  # DT correct, LR wrong\n",
        "    elif y_test.iloc[i] != y_dt_pred[i] and y_test.iloc[i] == y_lr_pred[i]:\n",
        "        table[1][0] += 1  # LR correct, DT wrong\n",
        "\n",
        "for i in range(len(y_test)):\n",
        "    if y_test.iloc[i] == y_dt_pred[i] and y_test.iloc[i] == y_lr_pred[i]:\n",
        "        table[0][0] += 1  # Both correct\n",
        "    elif y_test.iloc[i] != y_dt_pred[i] and y_test.iloc[i] != y_lr_pred[i]:\n",
        "        table[1][1] += 1  # Both wrong\n",
        "\n",
        "print(\"Contingency Table (McNemar):\", table)\n",
        "\n",
        "# Step 9: Run McNemar's test\n",
        "result = mcnemar(table, exact=True)\n",
        "print(\"McNemar’s Test Statistic:\", result.statistic)\n",
        "print(\"McNemar’s Test p-value:\", result.pvalue)\n",
        "\n",
        "if result.pvalue < 0.05:\n",
        "    print(\"Significant difference between models (reject H0)\")\n",
        "else:\n",
        "    print(\"No significant difference between models (fail to reject H0)\")"
      ],
      "metadata": {
        "colab": {
          "base_uri": "https://localhost:8080/"
        },
        "id": "4o-61W3lVt6s",
        "outputId": "23c56995-1ead-4bd0-8df5-f8048f00a117"
      },
      "execution_count": null,
      "outputs": [
        {
          "output_type": "stream",
          "name": "stdout",
          "text": [
            "Decision Tree Accuracy: 0.5040322580645161\n",
            "Logistic Regression Accuracy: 0.5073655913978494\n",
            "Contingency Table (McNemar): [[4810, 4565], [4627, 4598]]\n",
            "McNemar’s Test Statistic: 4565.0\n",
            "McNemar’s Test p-value: 0.5246185602506108\n",
            "No significant difference between models (fail to reject H0)\n"
          ]
        }
      ]
    }
  ]
}